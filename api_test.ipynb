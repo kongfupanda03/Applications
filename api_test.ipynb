{
 "cells": [
  {
   "cell_type": "code",
   "execution_count": 1,
   "metadata": {},
   "outputs": [],
   "source": [
    "import asyncio\n",
    "import requests\n",
    "import websockets\n",
    "import json\n",
    "from websocket import create_connection"
   ]
  },
  {
   "cell_type": "code",
   "execution_count": 2,
   "metadata": {},
   "outputs": [],
   "source": [
    "# Test the HTTP endpoint\n",
    "def test_http_endpoint():\n",
    "    response = requests.get('http://localhost:8000/')\n",
    "    assert response.status_code == 200\n",
    "    assert response.json() == \"This is the main page\"\n",
    "    print(\"HTTP test passed.\")"
   ]
  },
  {
   "cell_type": "code",
   "execution_count": 4,
   "metadata": {},
   "outputs": [
    {
     "name": "stdout",
     "output_type": "stream",
     "text": [
      "HTTP test passed.\n"
     ]
    }
   ],
   "source": [
    "test_http_endpoint()"
   ]
  },
  {
   "cell_type": "code",
   "execution_count": 5,
   "metadata": {},
   "outputs": [],
   "source": [
    "# Test the WebSocket endpoint\n",
    "async def test_websocket_endpoint():\n",
    "    uri = \"ws://localhost:8000/ws\"\n",
    "    async with websockets.connect(uri) as websocket:\n",
    "        test_message = \"Hello from the client!\"\n",
    "        await websocket.send(test_message)\n",
    "        response = await websocket.recv()\n",
    "        assert response == f\"Message text was: {test_message}\"\n",
    "        print(\"WebSocket test passed.\")"
   ]
  },
  {
   "cell_type": "code",
   "execution_count": 9,
   "metadata": {},
   "outputs": [
    {
     "name": "stdout",
     "output_type": "stream",
     "text": [
      "WebSocket test passed.\n"
     ]
    }
   ],
   "source": [
    "#asyncio.run(test_websocket_endpoint())\n",
    "await test_websocket_endpoint()"
   ]
  },
  {
   "cell_type": "code",
   "execution_count": 10,
   "metadata": {},
   "outputs": [
    {
     "name": "stdout",
     "output_type": "stream",
     "text": [
      "<websockets.legacy.client.WebSocketClientProtocol object at 0x117204bb0>\n",
      "Response from server: {\"message\":\"Payload received\",\"question\":\"What's the meaning of life?\",\"answer\":\"dummy generated answer\"}\n",
      "<websockets.legacy.client.WebSocketClientProtocol object at 0x117204bb0>\n",
      "Response from server: {\"message\":\"Payload received\",\"question\":\"What's ESG?\",\"answer\":\"dummy generated answer\"}\n",
      "<websockets.legacy.client.WebSocketClientProtocol object at 0x117204bb0>\n",
      "Response from server: Error: QuestionRequest validation failed: [{'loc': ('question',), 'msg': 'field required', 'type': 'value_error.missing'}]\n"
     ]
    }
   ],
   "source": [
    "async def communicate_api():\n",
    "    uri = \"ws://127.0.0.1:8000/communicate\"\n",
    "    async with websockets.connect(uri, extra_headers={\"x-api-key\": \"123\"}) as websocket:\n",
    "        # Send a message (question) to the server\n",
    "        question = {\"question\": \"What's the meaning of life?\"}\n",
    "        await websocket.send(json.dumps(question))\n",
    "        print(websocket)\n",
    "        # Wait for a response\n",
    "        response = await websocket.recv()\n",
    "        print(f\"Response from server: {response}\")\n",
    "\n",
    "        question = {\"question\": \"What's ESG?\"}\n",
    "        await websocket.send(json.dumps(question))\n",
    "        print(websocket)\n",
    "        # Wait for a response\n",
    "        response = await websocket.recv()\n",
    "        print(f\"Response from server: {response}\")\n",
    "\n",
    "        question = {\"questions\": \"What's ESG?\"}\n",
    "        await websocket.send(json.dumps(question))\n",
    "        print(websocket)\n",
    "        # Wait for a response\n",
    "        response = await websocket.recv()\n",
    "        print(f\"Response from server: {response}\")\n",
    "\n",
    "# Run the communication test\n",
    "#asyncio.run(communicate_api())\n",
    "await communicate_api()"
   ]
  },
  {
   "cell_type": "code",
   "execution_count": null,
   "metadata": {},
   "outputs": [],
   "source": []
  }
 ],
 "metadata": {
  "kernelspec": {
   "display_name": "Python 3",
   "language": "python",
   "name": "python3"
  },
  "language_info": {
   "codemirror_mode": {
    "name": "ipython",
    "version": 3
   },
   "file_extension": ".py",
   "mimetype": "text/x-python",
   "name": "python",
   "nbconvert_exporter": "python",
   "pygments_lexer": "ipython3",
   "version": "3.10.9"
  }
 },
 "nbformat": 4,
 "nbformat_minor": 2
}
